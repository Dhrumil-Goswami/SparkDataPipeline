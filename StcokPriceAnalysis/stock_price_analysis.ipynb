{
 "cells": [
  {
   "cell_type": "code",
   "execution_count": 1,
   "id": "7e287990-f6f9-4275-a759-dca641cd2b6b",
   "metadata": {
    "scrolled": true
   },
   "outputs": [],
   "source": [
    "## 1. Reading and Cleaning Stock Price Data"
   ]
  },
  {
   "cell_type": "code",
   "execution_count": 2,
   "id": "41ecc595-3911-4de0-b7c7-6322a32e4c97",
   "metadata": {},
   "outputs": [],
   "source": [
    "import pyspark\n",
    "from pyspark.sql import SparkSession"
   ]
  },
  {
   "cell_type": "code",
   "execution_count": 3,
   "id": "0aa042f7-aece-49bb-84c0-3e0a814096aa",
   "metadata": {},
   "outputs": [
    {
     "name": "stderr",
     "output_type": "stream",
     "text": [
      "24/10/20 14:13:04 WARN Utils: Your hostname, dhrumil-Inspiron-14-7440-2-in-1 resolves to a loopback address: 127.0.1.1; using 192.168.1.152 instead (on interface wlp0s20f3)\n",
      "24/10/20 14:13:04 WARN Utils: Set SPARK_LOCAL_IP if you need to bind to another address\n",
      "Setting default log level to \"WARN\".\n",
      "To adjust logging level use sc.setLogLevel(newLevel). For SparkR, use setLogLevel(newLevel).\n",
      "24/10/20 14:13:04 WARN NativeCodeLoader: Unable to load native-hadoop library for your platform... using builtin-java classes where applicable\n"
     ]
    }
   ],
   "source": [
    "ss = SparkSession.builder.appName(\"Stock Price Analysis\").getOrCreate()"
   ]
  },
  {
   "cell_type": "code",
   "execution_count": 4,
   "id": "eec63e7b-b939-4b73-bb54-c8113e175abe",
   "metadata": {},
   "outputs": [
    {
     "name": "stdout",
     "output_type": "stream",
     "text": [
      "+------+----------+----------+-------+--------+--------+--------+\n",
      "|Ticker|      Date|Close/Last| Volume|    Open|    High|     Low|\n",
      "+------+----------+----------+-------+--------+--------+--------+\n",
      "| BRK-B|05/31/2023|  $321.08 |6175417|$321.12 |$322.41 |$319.39 |\n",
      "| BRK-B|05/30/2023|  $322.19 |3232461|$321.86 |$322.47 |$319.00 |\n",
      "| BRK-B|05/26/2023|  $320.60 |3229873|$320.44 |$322.63 |$319.67 |\n",
      "| BRK-B|05/25/2023|  $319.02 |4251935|$320.56 |$320.56 |$317.71 |\n",
      "| BRK-B|05/24/2023|  $320.20 |3075393|$322.71 |$323.00 |$319.56 |\n",
      "+------+----------+----------+-------+--------+--------+--------+\n",
      "only showing top 5 rows\n",
      "\n"
     ]
    }
   ],
   "source": [
    "## Reading CSV data => Stocks\n",
    "df = ss.read.csv(\"StockData\",header=True)\n",
    "df.show(5)"
   ]
  },
  {
   "cell_type": "code",
   "execution_count": 5,
   "id": "2ba0f5b7-3544-4232-afd3-600e67bd46eb",
   "metadata": {},
   "outputs": [
    {
     "name": "stdout",
     "output_type": "stream",
     "text": [
      "root\n",
      " |-- Ticker: string (nullable = true)\n",
      " |-- Date: string (nullable = true)\n",
      " |-- Close/Last: string (nullable = true)\n",
      " |-- Volume: string (nullable = true)\n",
      " |-- Open: string (nullable = true)\n",
      " |-- High: string (nullable = true)\n",
      " |-- Low: string (nullable = true)\n",
      "\n"
     ]
    }
   ],
   "source": [
    "df.printSchema()"
   ]
  },
  {
   "cell_type": "code",
   "execution_count": 6,
   "id": "8865340a-412e-4e22-8817-95c9214f9bfd",
   "metadata": {},
   "outputs": [
    {
     "name": "stdout",
     "output_type": "stream",
     "text": [
      "+------+\n",
      "|Ticker|\n",
      "+------+\n",
      "| BRK-B|\n",
      "| BRK-B|\n",
      "| BRK-B|\n",
      "| BRK-B|\n",
      "| BRK-B|\n",
      "+------+\n",
      "only showing top 5 rows\n",
      "\n"
     ]
    }
   ],
   "source": [
    "df.select('Ticker').show(5)"
   ]
  },
  {
   "cell_type": "raw",
   "id": "737d0a3d-54a9-493f-a227-97f0618b06a4",
   "metadata": {
    "scrolled": true
   },
   "source": [
    "# df.select([\"Ticker\", \"Date\", \"Close/Last\"]).show(2)\n",
    "df.select([df[\"Ticker\"]]).show(5)"
   ]
  },
  {
   "cell_type": "code",
   "execution_count": 7,
   "id": "dac3996c-752e-4f2a-a240-5cedf3363bbb",
   "metadata": {},
   "outputs": [
    {
     "name": "stdout",
     "output_type": "stream",
     "text": [
      "+------+\n",
      "|Ticker|\n",
      "+------+\n",
      "|  MSFT|\n",
      "|  MSFT|\n",
      "|  MSFT|\n",
      "|  MSFT|\n",
      "|  MSFT|\n",
      "+------+\n",
      "only showing top 5 rows\n",
      "\n"
     ]
    }
   ],
   "source": [
    "df_filter = df.filter(df[\"Ticker\"] == \"MSFT\")\n",
    "df_filter.select([\"Ticker\"]).show(5)\n",
    "# df_filter = df[df[\"Ticker\"]== \"MSFT\"].show()\n"
   ]
  },
  {
   "cell_type": "code",
   "execution_count": 8,
   "id": "36ecebfa-be83-49d2-bf4e-0549e609ee95",
   "metadata": {},
   "outputs": [
    {
     "name": "stdout",
     "output_type": "stream",
     "text": [
      "+------+----------+----------+--------+--------+--------+--------+\n",
      "|Ticker|      Date|Close/Last|  Volume|    Open|    High|     Low|\n",
      "+------+----------+----------+--------+--------+--------+--------+\n",
      "|  MSFT|05/31/2023|  $328.39 |45950550|$332.29 |$335.94 |$327.33 |\n",
      "|     V|05/31/2023|  $221.03 |20460620|$219.96 |$221.53 |$216.14 |\n",
      "+------+----------+----------+--------+--------+--------+--------+\n",
      "\n"
     ]
    }
   ],
   "source": [
    "df.filter(((df[\"Ticker\"] == \"MSFT\") | (df[\"Ticker\"] == \"V\")) & (df[\"Date\"] == \"05/31/2023\")).show()"
   ]
  },
  {
   "cell_type": "code",
   "execution_count": 9,
   "id": "a079c940-ac84-487f-9c33-8031f945b4ad",
   "metadata": {},
   "outputs": [
    {
     "name": "stdout",
     "output_type": "stream",
     "text": [
      "+------+----------+----------+--------+--------+--------+--------+\n",
      "|Ticker|      Date|Close/Last|  Volume|    Open|    High|     Low|\n",
      "+------+----------+----------+--------+--------+--------+--------+\n",
      "|  MSFT|05/31/2023|  $328.39 |45950550|$332.29 |$335.94 |$327.33 |\n",
      "|  MSFT|05/30/2023|  $331.21 |29503070|$335.23 |$335.74 |$330.52 |\n",
      "|  MSFT|05/12/2022|  $255.35 |51033800|$257.69 |$259.88 |$250.02 |\n",
      "+------+----------+----------+--------+--------+--------+--------+\n",
      "\n"
     ]
    }
   ],
   "source": [
    "df.filter((df[\"Ticker\"] == \"MSFT\") & (df[\"Date\"].isin([\"05/31/2023\", \"05/30/2023\", \"05/29/2023\", \"05/12/2022\"]))).show(20)"
   ]
  },
  {
   "cell_type": "code",
   "execution_count": 10,
   "id": "52be5ea7-0ec2-4928-b03d-288f3cac8cbd",
   "metadata": {},
   "outputs": [
    {
     "name": "stdout",
     "output_type": "stream",
     "text": [
      "root\n",
      " |-- Ticker: string (nullable = true)\n",
      " |-- Date: string (nullable = true)\n",
      " |-- Close/Last: string (nullable = true)\n",
      " |-- Volume: string (nullable = true)\n",
      " |-- Open: string (nullable = true)\n",
      " |-- High: string (nullable = true)\n",
      " |-- Low: string (nullable = true)\n",
      "\n"
     ]
    }
   ],
   "source": [
    "df.printSchema()"
   ]
  },
  {
   "cell_type": "code",
   "execution_count": 11,
   "id": "cfb98938-78df-4fb6-a10e-7dbac7ca6ac8",
   "metadata": {},
   "outputs": [],
   "source": [
    "from datetime import datetime\n",
    "from pyspark.sql.types import DateType\n",
    "from pyspark.sql.functions import udf"
   ]
  },
  {
   "cell_type": "code",
   "execution_count": 12,
   "id": "ba0d04fd-ff20-4820-b1f7-f5abdcb8c7e6",
   "metadata": {},
   "outputs": [],
   "source": [
    "date_parser = udf(lambda date: datetime.strptime(date,\"%m/%d/%Y\"), DateType())"
   ]
  },
  {
   "cell_type": "code",
   "execution_count": 43,
   "id": "a4f5cebc-c7f6-4a5f-b8a2-1c4b66a74590",
   "metadata": {},
   "outputs": [],
   "source": [
    "df = df.withColumn(\"PharseDate\", date_parser(df.Date))"
   ]
  },
  {
   "cell_type": "code",
   "execution_count": 44,
   "id": "8aaae00e-2153-43fe-84d1-f3658ac24e0f",
   "metadata": {},
   "outputs": [
    {
     "name": "stdout",
     "output_type": "stream",
     "text": [
      "+------+----------+----------+-------+------+------+------+----------+------+\n",
      "|Ticker|      Date|Close/Last| Volume|  Open|  High|   Low|PharseDate| Close|\n",
      "+------+----------+----------+-------+------+------+------+----------+------+\n",
      "| BRK-B|05/31/2023|  $321.08 |6175417|321.12|322.41|319.39|2023-05-31|321.08|\n",
      "| BRK-B|05/30/2023|  $322.19 |3232461|321.86|322.47| 319.0|2023-05-30|322.19|\n",
      "| BRK-B|05/26/2023|  $320.60 |3229873|320.44|322.63|319.67|2023-05-26| 320.6|\n",
      "| BRK-B|05/25/2023|  $319.02 |4251935|320.56|320.56|317.71|2023-05-25|319.02|\n",
      "| BRK-B|05/24/2023|  $320.20 |3075393|322.71| 323.0|319.56|2023-05-24| 320.2|\n",
      "+------+----------+----------+-------+------+------+------+----------+------+\n",
      "only showing top 5 rows\n",
      "\n"
     ]
    }
   ],
   "source": [
    "df.show(5)"
   ]
  },
  {
   "cell_type": "code",
   "execution_count": 45,
   "id": "3c836b58-8e89-43de-a4c3-ef86f1efc1ac",
   "metadata": {},
   "outputs": [],
   "source": [
    "from pyspark.sql.types import FloatType"
   ]
  },
  {
   "cell_type": "code",
   "execution_count": 46,
   "id": "43811d53-5971-4ba9-82a1-31529822f1ae",
   "metadata": {},
   "outputs": [],
   "source": [
    "def pharse_number(value):\n",
    "    if isinstance(value, str):\n",
    "        return float(value.strip(\"$\"))\n",
    "    elif isinstance(value, int) or isinstance(value, float):\n",
    "        return value\n",
    "    else:\n",
    "        return None\n",
    "    \n",
    "    # if value is None:\n",
    "    #     return None  # Explicitly return None for nulls\n",
    "    # elif isinstance(value, str):\n",
    "    #     try:\n",
    "    #         val = float(value.strip(\"$\"))\n",
    "    #         return val\n",
    "    #     except ValueError:\n",
    "    #         return None\n",
    "    # elif isinstance(value, (int, float)):\n",
    "    #     return value\n",
    "    # else:\n",
    "    #     return None\n",
    "\n",
    "num_parser = udf(pharse_number, FloatType())"
   ]
  },
  {
   "cell_type": "code",
   "execution_count": 47,
   "id": "72d61518-9230-4db9-a95b-92222dbf3be4",
   "metadata": {},
   "outputs": [],
   "source": [
    "df = (df.withColumn(\"Open\", num_parser(df.Open))\n",
    "        .withColumn(\"High\", num_parser(df.High))\n",
    "        .withColumn(\"Low\", num_parser(df.Low))\n",
    "        .withColumn(\"Close\", num_parser(df[\"Close/Last\"])))"
   ]
  },
  {
   "cell_type": "code",
   "execution_count": 48,
   "id": "6b9d2872-81cd-4f87-bbbc-afa4b396ad26",
   "metadata": {},
   "outputs": [
    {
     "name": "stdout",
     "output_type": "stream",
     "text": [
      "+------+----------+----------+-------+------+------+------+----------+------+\n",
      "|Ticker|      Date|Close/Last| Volume|  Open|  High|   Low|PharseDate| Close|\n",
      "+------+----------+----------+-------+------+------+------+----------+------+\n",
      "| BRK-B|05/31/2023|  $321.08 |6175417|321.12|322.41|319.39|2023-05-31|321.08|\n",
      "| BRK-B|05/30/2023|  $322.19 |3232461|321.86|322.47| 319.0|2023-05-30|322.19|\n",
      "| BRK-B|05/26/2023|  $320.60 |3229873|320.44|322.63|319.67|2023-05-26| 320.6|\n",
      "| BRK-B|05/25/2023|  $319.02 |4251935|320.56|320.56|317.71|2023-05-25|319.02|\n",
      "| BRK-B|05/24/2023|  $320.20 |3075393|322.71| 323.0|319.56|2023-05-24| 320.2|\n",
      "| BRK-B|05/23/2023|  $323.11 |4031342|328.19|329.27|322.97|2023-05-23|323.11|\n",
      "| BRK-B|05/22/2023|  $329.13 |2763422|330.75|331.49|328.35|2023-05-22|329.13|\n",
      "| BRK-B|05/19/2023|  $330.39 |4323538| 331.0|333.94|329.12|2023-05-19|330.39|\n",
      "| BRK-B|05/18/2023|  $329.76 |2808329|326.87|329.98|325.85|2023-05-18|329.76|\n",
      "| BRK-B|05/17/2023|  $327.39 |3047626|325.02|328.26|324.82|2023-05-17|327.39|\n",
      "| BRK-B|05/16/2023|  $323.75 |2139996|322.46|324.69|322.36|2023-05-16|323.75|\n",
      "| BRK-B|05/15/2023|  $323.53 |2191609|322.89|323.83|320.13|2023-05-15|323.53|\n",
      "| BRK-B|05/12/2023|  $322.49 |1938264|323.82|324.24|320.54|2023-05-12|322.49|\n",
      "| BRK-B|05/11/2023|  $322.64 |2549339| 321.0|322.96|319.81|2023-05-11|322.64|\n",
      "| BRK-B|05/10/2023|  $322.99 |2641134|326.08|326.16|320.15|2023-05-10|322.99|\n",
      "| BRK-B|05/09/2023|  $324.87 |2285924|324.87|326.88|323.48|2023-05-09|324.87|\n",
      "| BRK-B|05/08/2023|  $326.14 |3303393|328.26|330.69|325.79|2023-05-08|326.14|\n",
      "| BRK-B|05/05/2023|  $323.88 |3876299|323.36|325.16|322.62|2023-05-05|323.88|\n",
      "| BRK-B|05/04/2023|  $320.00 |3194768|323.44|325.99|317.41|2023-05-04| 320.0|\n",
      "| BRK-B|05/03/2023|  $323.22 |2660456|327.13|328.07|323.06|2023-05-03|323.22|\n",
      "+------+----------+----------+-------+------+------+------+----------+------+\n",
      "only showing top 20 rows\n",
      "\n"
     ]
    }
   ],
   "source": [
    "df.show()"
   ]
  },
  {
   "cell_type": "code",
   "execution_count": 49,
   "id": "31be6da8-4770-4183-8b6b-398e728756e5",
   "metadata": {},
   "outputs": [
    {
     "name": "stdout",
     "output_type": "stream",
     "text": [
      "+------+----------+----------+-------+------+------+------+----------+------+\n",
      "|Ticker|      Date|Close/Last| Volume|  Open|  High|   Low|PharseDate| Close|\n",
      "+------+----------+----------+-------+------+------+------+----------+------+\n",
      "| BRK-B|05/31/2023|  $321.08 |6175417|321.12|322.41|319.39|2023-05-31|321.08|\n",
      "| BRK-B|05/30/2023|  $322.19 |3232461|321.86|322.47| 319.0|2023-05-30|322.19|\n",
      "| BRK-B|05/26/2023|  $320.60 |3229873|320.44|322.63|319.67|2023-05-26| 320.6|\n",
      "| BRK-B|05/25/2023|  $319.02 |4251935|320.56|320.56|317.71|2023-05-25|319.02|\n",
      "| BRK-B|05/24/2023|  $320.20 |3075393|322.71| 323.0|319.56|2023-05-24| 320.2|\n",
      "| BRK-B|05/23/2023|  $323.11 |4031342|328.19|329.27|322.97|2023-05-23|323.11|\n",
      "| BRK-B|05/22/2023|  $329.13 |2763422|330.75|331.49|328.35|2023-05-22|329.13|\n",
      "| BRK-B|05/19/2023|  $330.39 |4323538| 331.0|333.94|329.12|2023-05-19|330.39|\n",
      "| BRK-B|05/18/2023|  $329.76 |2808329|326.87|329.98|325.85|2023-05-18|329.76|\n",
      "| BRK-B|05/17/2023|  $327.39 |3047626|325.02|328.26|324.82|2023-05-17|327.39|\n",
      "| BRK-B|05/16/2023|  $323.75 |2139996|322.46|324.69|322.36|2023-05-16|323.75|\n",
      "| BRK-B|05/15/2023|  $323.53 |2191609|322.89|323.83|320.13|2023-05-15|323.53|\n",
      "| BRK-B|05/12/2023|  $322.49 |1938264|323.82|324.24|320.54|2023-05-12|322.49|\n",
      "| BRK-B|05/11/2023|  $322.64 |2549339| 321.0|322.96|319.81|2023-05-11|322.64|\n",
      "| BRK-B|05/10/2023|  $322.99 |2641134|326.08|326.16|320.15|2023-05-10|322.99|\n",
      "| BRK-B|05/09/2023|  $324.87 |2285924|324.87|326.88|323.48|2023-05-09|324.87|\n",
      "| BRK-B|05/08/2023|  $326.14 |3303393|328.26|330.69|325.79|2023-05-08|326.14|\n",
      "| BRK-B|05/05/2023|  $323.88 |3876299|323.36|325.16|322.62|2023-05-05|323.88|\n",
      "| BRK-B|05/04/2023|  $320.00 |3194768|323.44|325.99|317.41|2023-05-04| 320.0|\n",
      "| BRK-B|05/03/2023|  $323.22 |2660456|327.13|328.07|323.06|2023-05-03|323.22|\n",
      "+------+----------+----------+-------+------+------+------+----------+------+\n",
      "only showing top 20 rows\n",
      "\n"
     ]
    }
   ],
   "source": [
    "from pyspark.sql.types import IntegerType\n",
    "intger_pharse = udf(lambda volume: int(volume), IntegerType())\n",
    "df = df.withColumn(\"Volume\", intger_pharse(df[\"Volume\"]))\n",
    "df.show()"
   ]
  },
  {
   "cell_type": "code",
   "execution_count": 50,
   "id": "93c1c822-8b7c-40fb-80ab-f7878d842893",
   "metadata": {},
   "outputs": [
    {
     "name": "stdout",
     "output_type": "stream",
     "text": [
      "root\n",
      " |-- Ticker: string (nullable = true)\n",
      " |-- Date: string (nullable = true)\n",
      " |-- Close/Last: string (nullable = true)\n",
      " |-- Volume: integer (nullable = true)\n",
      " |-- Open: float (nullable = true)\n",
      " |-- High: float (nullable = true)\n",
      " |-- Low: float (nullable = true)\n",
      " |-- PharseDate: date (nullable = true)\n",
      " |-- Close: float (nullable = true)\n",
      "\n"
     ]
    }
   ],
   "source": [
    "df.printSchema()"
   ]
  },
  {
   "cell_type": "code",
   "execution_count": 68,
   "id": "3cc2dc5f-fc30-495c-a05f-f5eef9870ee7",
   "metadata": {
    "scrolled": true
   },
   "outputs": [
    {
     "name": "stdout",
     "output_type": "stream",
     "text": [
      "+------+----------+------+------+------+------+-------+\n",
      "|Ticker|PharseDate| Close|  Open|   Low|  High| Volume|\n",
      "+------+----------+------+------+------+------+-------+\n",
      "| BRK-B|2023-05-31|321.08|321.12|319.39|322.41|6175417|\n",
      "| BRK-B|2023-05-30|322.19|321.86| 319.0|322.47|3232461|\n",
      "| BRK-B|2023-05-26| 320.6|320.44|319.67|322.63|3229873|\n",
      "| BRK-B|2023-05-25|319.02|320.56|317.71|320.56|4251935|\n",
      "+------+----------+------+------+------+------+-------+\n",
      "only showing top 4 rows\n",
      "\n"
     ]
    }
   ],
   "source": [
    "cleanned_df = df.select([\"Ticker\", \"PharseDate\", \"Close\", \"Open\", \"Low\", \"High\", \"Volume\"])\n",
    "cleanned_df.show(4)"
   ]
  },
  {
   "cell_type": "code",
   "execution_count": 69,
   "id": "5224c1d9-95a6-4850-b0fe-69cf8588fbfc",
   "metadata": {},
   "outputs": [],
   "source": [
    "## 2. Basic Stock Analysis"
   ]
  },
  {
   "cell_type": "code",
   "execution_count": 70,
   "id": "81576cd5-729c-4dd8-b9ed-94c30e94eeb8",
   "metadata": {},
   "outputs": [
    {
     "name": "stdout",
     "output_type": "stream",
     "text": [
      "+------+---------+\n",
      "|Ticker|max(Open)|\n",
      "+------+---------+\n",
      "| BRK-B|   361.39|\n",
      "|  MSFT|   344.62|\n",
      "|  META|   381.68|\n",
      "|  TSLA|   411.47|\n",
      "|  AAPL|   182.63|\n",
      "|  AMZN|    187.2|\n",
      "| GOOGL|   151.25|\n",
      "|  NVDA|   405.95|\n",
      "|     V|   250.05|\n",
      "|   TSM|   141.61|\n",
      "|   SPY|   479.22|\n",
      "|   QQQ|   405.57|\n",
      "+------+---------+\n",
      "\n"
     ]
    }
   ],
   "source": [
    "cleanned_df.groupBy(\"Ticker\").max(\"Open\").show()"
   ]
  },
  {
   "cell_type": "code",
   "execution_count": 71,
   "id": "8e5ca2a9-6c70-4496-adca-25d2d28b1df3",
   "metadata": {},
   "outputs": [],
   "source": [
    "import pyspark.sql.functions as func"
   ]
  },
  {
   "cell_type": "code",
   "execution_count": 72,
   "id": "b36dea43-a636-45ae-bcaf-80782f234b6f",
   "metadata": {},
   "outputs": [
    {
     "name": "stdout",
     "output_type": "stream",
     "text": [
      "+------+---------------+\n",
      "|Ticker|Max Stock Price|\n",
      "+------+---------------+\n",
      "| BRK-B|         361.39|\n",
      "|  MSFT|         344.62|\n",
      "|  META|         381.68|\n",
      "|  TSLA|         411.47|\n",
      "|  AAPL|         182.63|\n",
      "|  AMZN|          187.2|\n",
      "| GOOGL|         151.25|\n",
      "|  NVDA|         405.95|\n",
      "|     V|         250.05|\n",
      "|   TSM|         141.61|\n",
      "|   SPY|         479.22|\n",
      "|   QQQ|         405.57|\n",
      "+------+---------------+\n",
      "\n"
     ]
    }
   ],
   "source": [
    "cleanned_df.groupBy(\"Ticker\").max(\"Open\").withColumnRenamed(\"max(OPen)\", \"Max Stock Price\").show()"
   ]
  },
  {
   "cell_type": "code",
   "execution_count": 73,
   "id": "a3cae569-ae92-4cdc-8643-7692d1924f97",
   "metadata": {},
   "outputs": [
    {
     "name": "stdout",
     "output_type": "stream",
     "text": [
      "+------+--------+\n",
      "|Ticker|MaxStock|\n",
      "+------+--------+\n",
      "| BRK-B|  361.39|\n",
      "|  MSFT|  344.62|\n",
      "|  META|  381.68|\n",
      "|  TSLA|  411.47|\n",
      "|  AAPL|  182.63|\n",
      "|  AMZN|   187.2|\n",
      "| GOOGL|  151.25|\n",
      "|  NVDA|  405.95|\n",
      "|     V|  250.05|\n",
      "|   TSM|  141.61|\n",
      "|   SPY|  479.22|\n",
      "|   QQQ|  405.57|\n",
      "+------+--------+\n",
      "\n"
     ]
    }
   ],
   "source": [
    "cleanned_df.groupby(\"Ticker\").agg(func.max(\"Open\").alias(\"MaxStock\")).show()"
   ]
  },
  {
   "cell_type": "code",
   "execution_count": 74,
   "id": "d8bff08a-b758-4d15-907c-1299c50ef2ea",
   "metadata": {},
   "outputs": [
    {
     "name": "stdout",
     "output_type": "stream",
     "text": [
      "+------+--------+-----------------+\n",
      "|Ticker|MaxStock|SummationOFVolume|\n",
      "+------+--------+-----------------+\n",
      "| BRK-B|  361.39|       5862401321|\n",
      "|  MSFT|  344.62|      37976660472|\n",
      "|  META|  381.68|      30148848043|\n",
      "|  TSLA|  411.47|     171802975076|\n",
      "|  AAPL|  182.63|     139310061360|\n",
      "|  AMZN|   187.2|     104503287430|\n",
      "| GOOGL|  151.25|      43956560981|\n",
      "|  NVDA|  405.95|      58787218324|\n",
      "|     V|  250.05|      10410997871|\n",
      "|   TSM|  141.61|      12506470104|\n",
      "|   SPY|  479.22|     107925285300|\n",
      "|   QQQ|  405.57|      60437153773|\n",
      "+------+--------+-----------------+\n",
      "\n"
     ]
    }
   ],
   "source": [
    "cleanned_df.groupby(\"Ticker\").agg((func.max(\"Open\").alias(\"MaxStock\")),\n",
    "                                 func.sum(\"Volume\").alias(\"SummationOFVolume\")).show()"
   ]
  },
  {
   "cell_type": "code",
   "execution_count": 75,
   "id": "0220bdda-fdd7-4425-bd3c-7219cf295a73",
   "metadata": {},
   "outputs": [
    {
     "name": "stdout",
     "output_type": "stream",
     "text": [
      "+------+----------+------+------+------+------+-------+\n",
      "|Ticker|PharseDate| Close|  Open|   Low|  High| Volume|\n",
      "+------+----------+------+------+------+------+-------+\n",
      "| BRK-B|2023-05-31|321.08|321.12|319.39|322.41|6175417|\n",
      "| BRK-B|2023-05-30|322.19|321.86| 319.0|322.47|3232461|\n",
      "| BRK-B|2023-05-26| 320.6|320.44|319.67|322.63|3229873|\n",
      "+------+----------+------+------+------+------+-------+\n",
      "only showing top 3 rows\n",
      "\n"
     ]
    }
   ],
   "source": [
    "cleanned_df.show(3)"
   ]
  },
  {
   "cell_type": "code",
   "execution_count": 76,
   "id": "a3dae180-fab0-4329-951c-7a46676e9bf0",
   "metadata": {},
   "outputs": [],
   "source": [
    "cleanned_df = (cleanned_df.withColumn(\"Year\", func.year(cleanned_df.PharseDate))\n",
    "                            .withColumn(\"Day\", func.dayofmonth(cleanned_df.PharseDate))\n",
    "                            .withColumn(\"Week\", func.weekofyear(cleanned_df.PharseDate))\n",
    "                            .withColumn(\"Month\", func.month(cleanned_df.PharseDate)))"
   ]
  },
  {
   "cell_type": "code",
   "execution_count": 77,
   "id": "347b31af-546e-469a-842d-1d1eeeec122e",
   "metadata": {},
   "outputs": [
    {
     "name": "stdout",
     "output_type": "stream",
     "text": [
      "+------+----------+------+------+------+------+-------+----+---+----+-----+\n",
      "|Ticker|PharseDate| Close|  Open|   Low|  High| Volume|Year|Day|Week|Month|\n",
      "+------+----------+------+------+------+------+-------+----+---+----+-----+\n",
      "| BRK-B|2023-05-31|321.08|321.12|319.39|322.41|6175417|2023| 31|  22|    5|\n",
      "| BRK-B|2023-05-30|322.19|321.86| 319.0|322.47|3232461|2023| 30|  22|    5|\n",
      "| BRK-B|2023-05-26| 320.6|320.44|319.67|322.63|3229873|2023| 26|  21|    5|\n",
      "| BRK-B|2023-05-25|319.02|320.56|317.71|320.56|4251935|2023| 25|  21|    5|\n",
      "| BRK-B|2023-05-24| 320.2|322.71|319.56| 323.0|3075393|2023| 24|  21|    5|\n",
      "| BRK-B|2023-05-23|323.11|328.19|322.97|329.27|4031342|2023| 23|  21|    5|\n",
      "| BRK-B|2023-05-22|329.13|330.75|328.35|331.49|2763422|2023| 22|  21|    5|\n",
      "| BRK-B|2023-05-19|330.39| 331.0|329.12|333.94|4323538|2023| 19|  20|    5|\n",
      "| BRK-B|2023-05-18|329.76|326.87|325.85|329.98|2808329|2023| 18|  20|    5|\n",
      "| BRK-B|2023-05-17|327.39|325.02|324.82|328.26|3047626|2023| 17|  20|    5|\n",
      "| BRK-B|2023-05-16|323.75|322.46|322.36|324.69|2139996|2023| 16|  20|    5|\n",
      "| BRK-B|2023-05-15|323.53|322.89|320.13|323.83|2191609|2023| 15|  20|    5|\n",
      "| BRK-B|2023-05-12|322.49|323.82|320.54|324.24|1938264|2023| 12|  19|    5|\n",
      "| BRK-B|2023-05-11|322.64| 321.0|319.81|322.96|2549339|2023| 11|  19|    5|\n",
      "| BRK-B|2023-05-10|322.99|326.08|320.15|326.16|2641134|2023| 10|  19|    5|\n",
      "| BRK-B|2023-05-09|324.87|324.87|323.48|326.88|2285924|2023|  9|  19|    5|\n",
      "| BRK-B|2023-05-08|326.14|328.26|325.79|330.69|3303393|2023|  8|  19|    5|\n",
      "| BRK-B|2023-05-05|323.88|323.36|322.62|325.16|3876299|2023|  5|  18|    5|\n",
      "| BRK-B|2023-05-04| 320.0|323.44|317.41|325.99|3194768|2023|  4|  18|    5|\n",
      "| BRK-B|2023-05-03|323.22|327.13|323.06|328.07|2660456|2023|  3|  18|    5|\n",
      "+------+----------+------+------+------+------+-------+----+---+----+-----+\n",
      "only showing top 20 rows\n",
      "\n"
     ]
    }
   ],
   "source": [
    "cleanned_df.show()"
   ]
  },
  {
   "cell_type": "code",
   "execution_count": 81,
   "id": "ade7ad3e-ee95-4bcb-9b12-cc0bb02e56ee",
   "metadata": {},
   "outputs": [],
   "source": [
    "yearly = cleanned_df.groupby(\"Ticker\", \"Year\").agg(func.max(\"Open\").alias(\"YearlyOpenMax\"), func.min(\"Open\").alias(\"YearlyOpenLow\"))"
   ]
  },
  {
   "cell_type": "code",
   "execution_count": 82,
   "id": "75c51e2b-21a8-45f5-92f3-97e91c6e8245",
   "metadata": {},
   "outputs": [
    {
     "name": "stdout",
     "output_type": "stream",
     "text": [
      "+------+----+-------------+-------------+\n",
      "|Ticker|Year|YearlyOpenMax|YearlyOpenLow|\n",
      "+------+----+-------------+-------------+\n",
      "| BRK-B|2023|        331.0|       294.68|\n",
      "| BRK-B|2018|        224.0|       185.43|\n",
      "| BRK-B|2021|       300.88|       228.21|\n",
      "| BRK-B|2020|       233.92|        165.3|\n",
      "+------+----+-------------+-------------+\n",
      "only showing top 4 rows\n",
      "\n"
     ]
    }
   ],
   "source": [
    "yearly.show(4)"
   ]
  },
  {
   "cell_type": "code",
   "execution_count": 83,
   "id": "a659c716-c7be-4731-a4d1-aaad61339e0d",
   "metadata": {},
   "outputs": [],
   "source": [
    "weekly = cleanned_df.groupby(\"Ticker\", \"Year\", \"Week\").agg(func.max(\"Open\").alias(\"WeeklyOpenMax\"), func.min(\"Open\").alias(\"WeeklyOpenLow\"))\n",
    "monthly = cleanned_df.groupby(\"Ticker\", \"Year\", \"Month\").agg(func.max(\"Open\").alias(\"MonthlyOpenMax\"), func.min(\"Open\").alias(\"MonthlyOpenLow\"))"
   ]
  },
  {
   "cell_type": "code",
   "execution_count": 84,
   "id": "d39b6ffa-8991-47f3-aa75-4d5f025748e5",
   "metadata": {},
   "outputs": [
    {
     "name": "stdout",
     "output_type": "stream",
     "text": [
      "+------+----+----+-------------+-------------+\n",
      "|Ticker|Year|Week|WeeklyOpenMax|WeeklyOpenLow|\n",
      "+------+----+----+-------------+-------------+\n",
      "| BRK-B|2022|  14|        352.0|       341.17|\n",
      "| BRK-B|2022|  10|       326.59|       322.49|\n",
      "| BRK-B|2021|  14|       264.22|       260.02|\n",
      "| BRK-B|2018|  48|       217.23|        209.3|\n",
      "| BRK-B|2020|  19|       180.05|        173.4|\n",
      "+------+----+----+-------------+-------------+\n",
      "only showing top 5 rows\n",
      "\n"
     ]
    }
   ],
   "source": [
    "weekly.show(5)"
   ]
  },
  {
   "cell_type": "code",
   "execution_count": 85,
   "id": "9255e121-5705-4920-992b-d47790d40d0f",
   "metadata": {},
   "outputs": [
    {
     "name": "stdout",
     "output_type": "stream",
     "text": [
      "+------+----+-----+--------------+--------------+\n",
      "|Ticker|Year|Month|MonthlyOpenMax|MonthlyOpenLow|\n",
      "+------+----+-----+--------------+--------------+\n",
      "| BRK-B|2022|   10|        297.98|        260.58|\n",
      "| BRK-B|2018|    9|        222.13|        209.21|\n",
      "| BRK-B|2021|   10|        290.85|        273.02|\n",
      "| BRK-B|2020|   10|        216.74|        200.03|\n",
      "| BRK-B|2019|    9|        212.24|        201.19|\n",
      "+------+----+-----+--------------+--------------+\n",
      "only showing top 5 rows\n",
      "\n"
     ]
    }
   ],
   "source": [
    " monthly.show(5)"
   ]
  },
  {
   "cell_type": "code",
   "execution_count": null,
   "id": "cd029c21-64db-4e5f-b216-1d6661d08656",
   "metadata": {},
   "outputs": [],
   "source": []
  }
 ],
 "metadata": {
  "kernelspec": {
   "display_name": "Apache Spark Environment",
   "language": "python",
   "name": "apache_spark"
  },
  "language_info": {
   "codemirror_mode": {
    "name": "ipython",
    "version": 3
   },
   "file_extension": ".py",
   "mimetype": "text/x-python",
   "name": "python",
   "nbconvert_exporter": "python",
   "pygments_lexer": "ipython3",
   "version": "3.10.12"
  }
 },
 "nbformat": 4,
 "nbformat_minor": 5
}
