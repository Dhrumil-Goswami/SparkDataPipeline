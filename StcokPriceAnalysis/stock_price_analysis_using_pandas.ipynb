{
 "cells": [
  {
   "cell_type": "code",
   "execution_count": 1,
   "id": "4c5ebbf8-0c6a-4555-81ce-5aa11b6de216",
   "metadata": {},
   "outputs": [],
   "source": [
    "import pandas as pd\n",
    "import pyspark\n",
    "from pyspark.sql import SparkSession\n",
    "## You can not read hole directory using pandas but in pyspark you can "
   ]
  },
  {
   "cell_type": "code",
   "execution_count": 2,
   "id": "15f7b552-c171-442e-8851-10a9ef31f30a",
   "metadata": {},
   "outputs": [
    {
     "name": "stderr",
     "output_type": "stream",
     "text": [
      "24/10/19 22:02:07 WARN Utils: Your hostname, dhrumil-Inspiron-14-7440-2-in-1 resolves to a loopback address: 127.0.1.1, but we couldn't find any external IP address!\n",
      "24/10/19 22:02:07 WARN Utils: Set SPARK_LOCAL_IP if you need to bind to another address\n",
      "Setting default log level to \"WARN\".\n",
      "To adjust logging level use sc.setLogLevel(newLevel). For SparkR, use setLogLevel(newLevel).\n",
      "24/10/19 22:02:07 WARN NativeCodeLoader: Unable to load native-hadoop library for your platform... using builtin-java classes where applicable\n",
      "24/10/19 22:02:08 WARN MacAddressUtil: Failed to find a usable hardware address from the network interfaces; using random bytes: 31:02:12:74:60:4f:50:20\n",
      "24/10/19 22:02:08 WARN Utils: Service 'SparkUI' could not bind on port 4040. Attempting port 4041.\n"
     ]
    }
   ],
   "source": [
    "ss = SparkSession.builder.appName(\"Analysis Using panda\").getOrCreate()"
   ]
  },
  {
   "cell_type": "code",
   "execution_count": 5,
   "id": "0b69a611-b536-4972-8ad9-3f9da154271d",
   "metadata": {},
   "outputs": [],
   "source": [
    "df_spark = ss.read.csv(\"StockData\")"
   ]
  },
  {
   "cell_type": "code",
   "execution_count": 7,
   "id": "a1f9a955-88e3-436c-8882-83f4223933f0",
   "metadata": {},
   "outputs": [],
   "source": [
    "df = df_spark.toPandas()"
   ]
  },
  {
   "cell_type": "code",
   "execution_count": 8,
   "id": "cb6be4db-93a6-4706-8370-d24bf2357c62",
   "metadata": {},
   "outputs": [
    {
     "name": "stdout",
     "output_type": "stream",
     "text": [
      "<class 'pandas.core.frame.DataFrame'>\n",
      "RangeIndex: 15120 entries, 0 to 15119\n",
      "Data columns (total 7 columns):\n",
      " #   Column      Non-Null Count  Dtype \n",
      "---  ------      --------------  ----- \n",
      " 0   Ticker      15120 non-null  object\n",
      " 1   Date        15120 non-null  object\n",
      " 2   Close/Last  15120 non-null  object\n",
      " 3   Volume      15120 non-null  object\n",
      " 4   Open        15120 non-null  object\n",
      " 5   High        15120 non-null  object\n",
      " 6   Low         15120 non-null  object\n",
      "dtypes: object(7)\n",
      "memory usage: 827.0+ KB\n"
     ]
    }
   ],
   "source": [
    "df.columns = df.iloc[0]\n",
    "df.info()"
   ]
  },
  {
   "cell_type": "code",
   "execution_count": 9,
   "id": "49f0805b-e5bb-44e7-acf1-e5090ef6dd05",
   "metadata": {},
   "outputs": [
    {
     "data": {
      "text/plain": [
       "0    Ticker\n",
       "1     BRK-B\n",
       "2     BRK-B\n",
       "3     BRK-B\n",
       "4     BRK-B\n",
       "Name: Ticker, dtype: object"
      ]
     },
     "execution_count": 9,
     "metadata": {},
     "output_type": "execute_result"
    }
   ],
   "source": [
    "df[\"Ticker\"].head()"
   ]
  },
  {
   "cell_type": "code",
   "execution_count": 10,
   "id": "df97e38a-32ad-4b95-b417-823c7f20992b",
   "metadata": {},
   "outputs": [
    {
     "data": {
      "text/html": [
       "<div>\n",
       "<style scoped>\n",
       "    .dataframe tbody tr th:only-of-type {\n",
       "        vertical-align: middle;\n",
       "    }\n",
       "\n",
       "    .dataframe tbody tr th {\n",
       "        vertical-align: top;\n",
       "    }\n",
       "\n",
       "    .dataframe thead th {\n",
       "        text-align: right;\n",
       "    }\n",
       "</style>\n",
       "<table border=\"1\" class=\"dataframe\">\n",
       "  <thead>\n",
       "    <tr style=\"text-align: right;\">\n",
       "      <th></th>\n",
       "      <th>Ticker</th>\n",
       "      <th>Date</th>\n",
       "      <th>Close/Last</th>\n",
       "    </tr>\n",
       "  </thead>\n",
       "  <tbody>\n",
       "    <tr>\n",
       "      <th>15115</th>\n",
       "      <td>QQQ</td>\n",
       "      <td>06/06/2018</td>\n",
       "      <td>175.86</td>\n",
       "    </tr>\n",
       "    <tr>\n",
       "      <th>15116</th>\n",
       "      <td>QQQ</td>\n",
       "      <td>06/05/2018</td>\n",
       "      <td>174.84</td>\n",
       "    </tr>\n",
       "    <tr>\n",
       "      <th>15117</th>\n",
       "      <td>QQQ</td>\n",
       "      <td>06/04/2018</td>\n",
       "      <td>174.3</td>\n",
       "    </tr>\n",
       "    <tr>\n",
       "      <th>15118</th>\n",
       "      <td>QQQ</td>\n",
       "      <td>06/01/2018</td>\n",
       "      <td>172.74</td>\n",
       "    </tr>\n",
       "    <tr>\n",
       "      <th>15119</th>\n",
       "      <td>QQQ</td>\n",
       "      <td>05/31/2018</td>\n",
       "      <td>170.07</td>\n",
       "    </tr>\n",
       "  </tbody>\n",
       "</table>\n",
       "</div>"
      ],
      "text/plain": [
       "0     Ticker        Date Close/Last\n",
       "15115    QQQ  06/06/2018     175.86\n",
       "15116    QQQ  06/05/2018     174.84\n",
       "15117    QQQ  06/04/2018      174.3\n",
       "15118    QQQ  06/01/2018     172.74\n",
       "15119    QQQ  05/31/2018     170.07"
      ]
     },
     "execution_count": 10,
     "metadata": {},
     "output_type": "execute_result"
    }
   ],
   "source": [
    "df[[\"Ticker\", \"Date\", \"Close/Last\"]].tail()"
   ]
  },
  {
   "cell_type": "code",
   "execution_count": 11,
   "id": "b4d0bfd3-9ae0-4280-9a79-e69eadbf0e1e",
   "metadata": {},
   "outputs": [
    {
     "data": {
      "text/html": [
       "<div>\n",
       "<style scoped>\n",
       "    .dataframe tbody tr th:only-of-type {\n",
       "        vertical-align: middle;\n",
       "    }\n",
       "\n",
       "    .dataframe tbody tr th {\n",
       "        vertical-align: top;\n",
       "    }\n",
       "\n",
       "    .dataframe thead th {\n",
       "        text-align: right;\n",
       "    }\n",
       "</style>\n",
       "<table border=\"1\" class=\"dataframe\">\n",
       "  <thead>\n",
       "    <tr style=\"text-align: right;\">\n",
       "      <th></th>\n",
       "      <th>Ticker</th>\n",
       "      <th>Date</th>\n",
       "      <th>Close/Last</th>\n",
       "      <th>Volume</th>\n",
       "      <th>Open</th>\n",
       "      <th>High</th>\n",
       "      <th>Low</th>\n",
       "    </tr>\n",
       "  </thead>\n",
       "  <tbody>\n",
       "    <tr>\n",
       "      <th>0</th>\n",
       "      <td>True</td>\n",
       "      <td>True</td>\n",
       "      <td>True</td>\n",
       "      <td>False</td>\n",
       "      <td>False</td>\n",
       "      <td>False</td>\n",
       "      <td>False</td>\n",
       "    </tr>\n",
       "    <tr>\n",
       "      <th>1</th>\n",
       "      <td>False</td>\n",
       "      <td>False</td>\n",
       "      <td>False</td>\n",
       "      <td>False</td>\n",
       "      <td>False</td>\n",
       "      <td>False</td>\n",
       "      <td>False</td>\n",
       "    </tr>\n",
       "    <tr>\n",
       "      <th>2</th>\n",
       "      <td>False</td>\n",
       "      <td>False</td>\n",
       "      <td>False</td>\n",
       "      <td>False</td>\n",
       "      <td>False</td>\n",
       "      <td>False</td>\n",
       "      <td>False</td>\n",
       "    </tr>\n",
       "    <tr>\n",
       "      <th>3</th>\n",
       "      <td>False</td>\n",
       "      <td>False</td>\n",
       "      <td>False</td>\n",
       "      <td>False</td>\n",
       "      <td>False</td>\n",
       "      <td>False</td>\n",
       "      <td>False</td>\n",
       "    </tr>\n",
       "    <tr>\n",
       "      <th>4</th>\n",
       "      <td>False</td>\n",
       "      <td>False</td>\n",
       "      <td>False</td>\n",
       "      <td>False</td>\n",
       "      <td>False</td>\n",
       "      <td>False</td>\n",
       "      <td>False</td>\n",
       "    </tr>\n",
       "    <tr>\n",
       "      <th>...</th>\n",
       "      <td>...</td>\n",
       "      <td>...</td>\n",
       "      <td>...</td>\n",
       "      <td>...</td>\n",
       "      <td>...</td>\n",
       "      <td>...</td>\n",
       "      <td>...</td>\n",
       "    </tr>\n",
       "    <tr>\n",
       "      <th>15115</th>\n",
       "      <td>False</td>\n",
       "      <td>False</td>\n",
       "      <td>False</td>\n",
       "      <td>False</td>\n",
       "      <td>False</td>\n",
       "      <td>False</td>\n",
       "      <td>False</td>\n",
       "    </tr>\n",
       "    <tr>\n",
       "      <th>15116</th>\n",
       "      <td>False</td>\n",
       "      <td>False</td>\n",
       "      <td>False</td>\n",
       "      <td>False</td>\n",
       "      <td>False</td>\n",
       "      <td>False</td>\n",
       "      <td>False</td>\n",
       "    </tr>\n",
       "    <tr>\n",
       "      <th>15117</th>\n",
       "      <td>False</td>\n",
       "      <td>False</td>\n",
       "      <td>False</td>\n",
       "      <td>False</td>\n",
       "      <td>False</td>\n",
       "      <td>False</td>\n",
       "      <td>False</td>\n",
       "    </tr>\n",
       "    <tr>\n",
       "      <th>15118</th>\n",
       "      <td>False</td>\n",
       "      <td>False</td>\n",
       "      <td>False</td>\n",
       "      <td>False</td>\n",
       "      <td>False</td>\n",
       "      <td>False</td>\n",
       "      <td>False</td>\n",
       "    </tr>\n",
       "    <tr>\n",
       "      <th>15119</th>\n",
       "      <td>False</td>\n",
       "      <td>False</td>\n",
       "      <td>False</td>\n",
       "      <td>False</td>\n",
       "      <td>False</td>\n",
       "      <td>False</td>\n",
       "      <td>False</td>\n",
       "    </tr>\n",
       "  </tbody>\n",
       "</table>\n",
       "<p>15120 rows × 7 columns</p>\n",
       "</div>"
      ],
      "text/plain": [
       "0      Ticker   Date  Close/Last  Volume   Open   High    Low\n",
       "0        True   True        True   False  False  False  False\n",
       "1       False  False       False   False  False  False  False\n",
       "2       False  False       False   False  False  False  False\n",
       "3       False  False       False   False  False  False  False\n",
       "4       False  False       False   False  False  False  False\n",
       "...       ...    ...         ...     ...    ...    ...    ...\n",
       "15115   False  False       False   False  False  False  False\n",
       "15116   False  False       False   False  False  False  False\n",
       "15117   False  False       False   False  False  False  False\n",
       "15118   False  False       False   False  False  False  False\n",
       "15119   False  False       False   False  False  False  False\n",
       "\n",
       "[15120 rows x 7 columns]"
      ]
     },
     "execution_count": 11,
     "metadata": {},
     "output_type": "execute_result"
    }
   ],
   "source": [
    "df.isin([\"Ticker\", \"Date\", \"Close/Last\"])"
   ]
  },
  {
   "cell_type": "code",
   "execution_count": 13,
   "id": "c4afaabc-fc33-4ed7-833a-bb30ba2eba5f",
   "metadata": {},
   "outputs": [
    {
     "data": {
      "text/html": [
       "<div>\n",
       "<style scoped>\n",
       "    .dataframe tbody tr th:only-of-type {\n",
       "        vertical-align: middle;\n",
       "    }\n",
       "\n",
       "    .dataframe tbody tr th {\n",
       "        vertical-align: top;\n",
       "    }\n",
       "\n",
       "    .dataframe thead th {\n",
       "        text-align: right;\n",
       "    }\n",
       "</style>\n",
       "<table border=\"1\" class=\"dataframe\">\n",
       "  <thead>\n",
       "    <tr style=\"text-align: right;\">\n",
       "      <th></th>\n",
       "      <th>Ticker</th>\n",
       "      <th>Date</th>\n",
       "      <th>Close/Last</th>\n",
       "      <th>Volume</th>\n",
       "      <th>Open</th>\n",
       "      <th>High</th>\n",
       "      <th>Low</th>\n",
       "    </tr>\n",
       "  </thead>\n",
       "  <tbody>\n",
       "    <tr>\n",
       "      <th>1261</th>\n",
       "      <td>MSFT</td>\n",
       "      <td>05/31/2023</td>\n",
       "      <td>$328.39</td>\n",
       "      <td>45950550</td>\n",
       "      <td>$332.29</td>\n",
       "      <td>$335.94</td>\n",
       "      <td>$327.33</td>\n",
       "    </tr>\n",
       "    <tr>\n",
       "      <th>10081</th>\n",
       "      <td>V</td>\n",
       "      <td>05/31/2023</td>\n",
       "      <td>$221.03</td>\n",
       "      <td>20460620</td>\n",
       "      <td>$219.96</td>\n",
       "      <td>$221.53</td>\n",
       "      <td>$216.14</td>\n",
       "    </tr>\n",
       "  </tbody>\n",
       "</table>\n",
       "</div>"
      ],
      "text/plain": [
       "0     Ticker        Date Close/Last    Volume      Open      High       Low\n",
       "1261    MSFT  05/31/2023   $328.39   45950550  $332.29   $335.94   $327.33 \n",
       "10081      V  05/31/2023   $221.03   20460620  $219.96   $221.53   $216.14 "
      ]
     },
     "execution_count": 13,
     "metadata": {},
     "output_type": "execute_result"
    }
   ],
   "source": [
    "df[((df[\"Ticker\"] == \"MSFT\") | (df[\"Ticker\"] == \"V\")) & (df[\"Date\"] == \"05/31/2023\")].head()"
   ]
  },
  {
   "cell_type": "code",
   "execution_count": 15,
   "id": "166cd4f0-7928-48a2-b681-dcdbd33a1f71",
   "metadata": {},
   "outputs": [
    {
     "data": {
      "text/plain": [
       "<bound method DataFrame.info of 0      Ticker        Date  Close/Last    Volume      Open      High       Low\n",
       "0      Ticker        Date  Close/Last    Volume      Open      High       Low\n",
       "1       BRK-B  05/31/2023    $321.08    6175417  $321.12   $322.41   $319.39 \n",
       "2       BRK-B  05/30/2023    $322.19    3232461  $321.86   $322.47   $319.00 \n",
       "3       BRK-B  05/26/2023    $320.60    3229873  $320.44   $322.63   $319.67 \n",
       "4       BRK-B  05/25/2023    $319.02    4251935  $320.56   $320.56   $317.71 \n",
       "...       ...         ...         ...       ...       ...       ...       ...\n",
       "15115     QQQ  06/06/2018      175.86  24972980   175.025    175.89    174.14\n",
       "15116     QQQ  06/05/2018      174.84  24739120    174.69    175.13   174.065\n",
       "15117     QQQ  06/04/2018       174.3  19984280    173.16    174.34    173.07\n",
       "15118     QQQ  06/01/2018      172.74  45446770    170.88    172.84    170.87\n",
       "15119     QQQ  05/31/2018      170.07  35517240    170.13     171.2    169.63\n",
       "\n",
       "[15120 rows x 7 columns]>"
      ]
     },
     "execution_count": 15,
     "metadata": {},
     "output_type": "execute_result"
    }
   ],
   "source": []
  }
 ],
 "metadata": {
  "kernelspec": {
   "display_name": "Apache Spark Environment",
   "language": "python",
   "name": "apache_spark"
  },
  "language_info": {
   "codemirror_mode": {
    "name": "ipython",
    "version": 3
   },
   "file_extension": ".py",
   "mimetype": "text/x-python",
   "name": "python",
   "nbconvert_exporter": "python",
   "pygments_lexer": "ipython3",
   "version": "3.10.12"
  }
 },
 "nbformat": 4,
 "nbformat_minor": 5
}
